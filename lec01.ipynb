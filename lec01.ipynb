{
  "nbformat": 4,
  "nbformat_minor": 0,
  "metadata": {
    "colab": {
      "provenance": [],
      "authorship_tag": "ABX9TyP9MoYHD5gKRWM92eca48Na",
      "include_colab_link": true
    },
    "kernelspec": {
      "name": "python3",
      "display_name": "Python 3"
    },
    "language_info": {
      "name": "python"
    }
  },
  "cells": [
    {
      "cell_type": "markdown",
      "metadata": {
        "id": "view-in-github",
        "colab_type": "text"
      },
      "source": [
        "<a href=\"https://colab.research.google.com/github/jongheonleee/DSA/blob/main/lec01.ipynb\" target=\"_parent\"><img src=\"https://colab.research.google.com/assets/colab-badge.svg\" alt=\"Open In Colab\"/></a>"
      ]
    },
    {
      "cell_type": "code",
      "execution_count": 1,
      "metadata": {
        "colab": {
          "base_uri": "https://localhost:8080/",
          "height": 36
        },
        "id": "aNhE-HQftgbL",
        "outputId": "f74f1283-9417-41df-f2c2-475a4d2272c9"
      },
      "outputs": [
        {
          "output_type": "execute_result",
          "data": {
            "text/plain": [
              "'\\n파이썬 자료구조 강의 실습\\n신찬수 교수님\\n'"
            ],
            "application/vnd.google.colaboratory.intrinsic+json": {
              "type": "string"
            }
          },
          "metadata": {},
          "execution_count": 1
        }
      ],
      "source": [
        "'''\n",
        "파이썬 자료구조 강의 실습\n",
        "신찬수 교수님\n",
        "'''\n"
      ]
    },
    {
      "cell_type": "code",
      "source": [
        "# 최대 공약수 구하는 클래스\n",
        "class Gcd:\n",
        "  # 빼는 방법\n",
        "  def sub(self, a, b):\n",
        "    while a != 0 and b != 0:\n",
        "      if a > b:\n",
        "        a -= b\n",
        "\n",
        "      else:\n",
        "        b -= a\n",
        "\n",
        "    return a + b\n",
        "  \n",
        "  # 나누는 방법\n",
        "  def mod(self, a, b):\n",
        "    while a != 0 and b != 0:\n",
        "      if a > b:\n",
        "        a %= b\n",
        "\n",
        "      else:\n",
        "        b %= a\n",
        "\n",
        "    return a + b\n",
        "    \n",
        "  # 재귀적 방법\n",
        "  def rec(self, a, b):\n",
        "    if a == 0 or b == 0:\n",
        "      return a + b\n",
        "\n",
        "    elif a < b:\n",
        "      return self.rec(a, b%a)\n",
        "\n",
        "    else:\n",
        "      return self.rec(a%b, b)\n",
        "\n",
        "    \n",
        "gcd = Gcd()\n",
        "print(gcd.sub(2, 100))\n",
        "print(gcd.mod(2, 100))\n",
        "print(gcd.rec(2, 100))\n"
      ],
      "metadata": {
        "colab": {
          "base_uri": "https://localhost:8080/"
        },
        "id": "cQg-C4vCtouJ",
        "outputId": "2e8e99c1-c097-4749-b2d2-f60e56a30e8b"
      },
      "execution_count": 5,
      "outputs": [
        {
          "output_type": "stream",
          "name": "stdout",
          "text": [
            "2\n",
            "2\n",
            "2\n"
          ]
        }
      ]
    },
    {
      "cell_type": "code",
      "source": [],
      "metadata": {
        "id": "o16LS8HZ2JZz"
      },
      "execution_count": null,
      "outputs": []
    }
  ]
}