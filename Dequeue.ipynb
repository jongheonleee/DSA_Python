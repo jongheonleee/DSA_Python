{
  "nbformat": 4,
  "nbformat_minor": 0,
  "metadata": {
    "colab": {
      "provenance": [],
      "authorship_tag": "ABX9TyM7EZKyNvkkFD6r/Zrl0cqD",
      "include_colab_link": true
    },
    "kernelspec": {
      "name": "python3",
      "display_name": "Python 3"
    },
    "language_info": {
      "name": "python"
    }
  },
  "cells": [
    {
      "cell_type": "markdown",
      "metadata": {
        "id": "view-in-github",
        "colab_type": "text"
      },
      "source": [
        "<a href=\"https://colab.research.google.com/github/jongheonleee/DSA_Python/blob/main/Dequeue.ipynb\" target=\"_parent\"><img src=\"https://colab.research.google.com/assets/colab-badge.svg\" alt=\"Open In Colab\"/></a>"
      ]
    },
    {
      "cell_type": "code",
      "execution_count": 2,
      "metadata": {
        "colab": {
          "base_uri": "https://localhost:8080/"
        },
        "id": "Qb4NZTx_e0sr",
        "outputId": "1c6d63dd-120b-4775-f62a-7aa21919a75d"
      },
      "outputs": [
        {
          "output_type": "execute_result",
          "data": {
            "text/plain": [
              "True"
            ]
          },
          "metadata": {},
          "execution_count": 2
        }
      ],
      "source": [
        "from collections import deque\n",
        "\n",
        "\n",
        "# dequeue => LIFO + FIFO\n",
        "def is_palindrome(s: str) -> bool:\n",
        "  dq = deque(s)\n",
        "\n",
        "\n",
        "  while len(dq) > 1:\n",
        "    if dq.popleft() != dq.pop():\n",
        "      return False\n",
        "  \n",
        "  return True\n",
        "\n",
        "is_palindrome('sjsjsjsjs')"
      ]
    },
    {
      "cell_type": "code",
      "source": [],
      "metadata": {
        "id": "a7ZmCrpFfck-"
      },
      "execution_count": null,
      "outputs": []
    }
  ]
}