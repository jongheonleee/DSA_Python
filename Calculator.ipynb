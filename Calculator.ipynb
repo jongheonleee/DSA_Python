{
  "nbformat": 4,
  "nbformat_minor": 0,
  "metadata": {
    "colab": {
      "provenance": [],
      "authorship_tag": "ABX9TyOgCd27q0LWfqoKMVIhOdxg",
      "include_colab_link": true
    },
    "kernelspec": {
      "name": "python3",
      "display_name": "Python 3"
    },
    "language_info": {
      "name": "python"
    }
  },
  "cells": [
    {
      "cell_type": "markdown",
      "metadata": {
        "id": "view-in-github",
        "colab_type": "text"
      },
      "source": [
        "<a href=\"https://colab.research.google.com/github/jongheonleee/DSA/blob/main/Calculator.ipynb\" target=\"_parent\"><img src=\"https://colab.research.google.com/assets/colab-badge.svg\" alt=\"Open In Colab\"/></a>"
      ]
    },
    {
      "cell_type": "code",
      "execution_count": 1,
      "metadata": {
        "id": "T6jWFHh0aueK"
      },
      "outputs": [],
      "source": [
        "# \"infix -> postfix\" calculator"
      ]
    },
    {
      "cell_type": "code",
      "source": [
        "def infix_to_postfix(expr: str) -> str:\n",
        "  # transform infix expr into postfix expr\n",
        "  # initialize\n",
        "  stack, out = [], ''\n",
        "\n",
        "  for token in expr:\n",
        "    # if token is number(operand), add token in out(resault)\n",
        "    if token.isnumeric():\n",
        "      out += token\n",
        "    \n",
        "    elif token == '(':\n",
        "      stack.append('(')\n",
        "\n",
        "    # if token is ')', then i have to pop stack untill i get (\n",
        "    elif token == ')':\n",
        "      while stack[-1] != '(':\n",
        "        out += stack.pop()\n",
        "\n",
        "      # stack[-1] == '('\n",
        "      stack.pop()\n",
        "    \n",
        "    \n",
        "    elif token in '+-*/':\n",
        "      while len(stack) > 0:\n",
        "        if token in '+-' and stack[-1] in '*/': \n",
        "            out += stack.pop()\n",
        "\n",
        "        else:\n",
        "          break\n",
        "\n",
        "      stack.append(token)\n",
        "\n",
        "    # compare which have higher priority between token and operator which is on top of the stack\n",
        "      # if token is bigger than operator which is top of the stack, just push token onto stack\n",
        "      # on the otherhand, repeat poping an operator which is bigger than token onto stack untill i get an opearator which in less than token \n",
        "      # i have to make the code which compare operators each other more clean\n",
        "\n",
        "  while len(stack) > 0:\n",
        "    out += stack.pop()\n",
        "\n",
        "  return out\n",
        "\n",
        "print(infix_to_postfix('6+3*2'))\n",
        "print(infix_to_postfix('9+((3-2)*3)'))\n",
        "print(infix_to_postfix('6*3*3+2'))"
      ],
      "metadata": {
        "colab": {
          "base_uri": "https://localhost:8080/"
        },
        "id": "mP4VHgcZfw45",
        "outputId": "f36b91d7-a1aa-44fd-af8f-b14a8e92879b"
      },
      "execution_count": 22,
      "outputs": [
        {
          "output_type": "stream",
          "name": "stdout",
          "text": [
            "632*+\n",
            "932-3*+\n",
            "633**2+\n"
          ]
        }
      ]
    },
    {
      "cell_type": "code",
      "source": [
        "# first of all, i have to consider every string was saved by ascii code\n",
        "# so when i compare Operator Priority, i cant use Comparison operator\n",
        "# and i have to practice makeing my code clean \n",
        "# so that use annotation actively, and show what is your goal of working this code!!!\n"
      ],
      "metadata": {
        "colab": {
          "base_uri": "https://localhost:8080/"
        },
        "id": "2NXpqLrWhd6B",
        "outputId": "a3d06b9b-e760-400f-9dbd-d629e4e7717d"
      },
      "execution_count": 18,
      "outputs": [
        {
          "output_type": "stream",
          "name": "stdout",
          "text": [
            "True\n",
            "True\n"
          ]
        }
      ]
    },
    {
      "cell_type": "code",
      "source": [
        "# this calculator postfix expression\n",
        "def calculator(postfix: str) -> int:\n",
        " lst = []\n",
        "\n",
        " for token in postfix:\n",
        "   if token in '+-*/':\n",
        "     b, a, c = int(lst.pop()), int(lst.pop()), 0 \n",
        "     \n",
        "     if token == '+':\n",
        "       c = a + b\n",
        "\n",
        "     if token == '-':\n",
        "       c = a - b\n",
        "\n",
        "     if token == '*':\n",
        "       c = a * b\n",
        "\n",
        "     if token == '/':\n",
        "       c = a / b\n",
        "\n",
        "     lst.append(str(c))\n",
        "\n",
        "   else:\n",
        "     # these are number, so just put these onto list\n",
        "     lst.append(token)\n",
        "\n",
        "  \n",
        " return lst.pop()\n",
        "\n",
        "print(calculator('632*+'))\n",
        "print(calculator('932-3*+'))\n",
        "print(calculator('633**2+'))\n",
        "    "
      ],
      "metadata": {
        "colab": {
          "base_uri": "https://localhost:8080/"
        },
        "id": "7EZLLiLhlvZx",
        "outputId": "ff562204-59fa-4120-ca66-f2a750a8fec2"
      },
      "execution_count": 27,
      "outputs": [
        {
          "output_type": "stream",
          "name": "stdout",
          "text": [
            "12\n",
            "12\n",
            "56\n"
          ]
        }
      ]
    },
    {
      "cell_type": "code",
      "source": [
        "# make the class of calculator \n",
        "# this can calculate infix expressions\n",
        "class Calculator:\n",
        "  def work(self, input):\n",
        "    postfix, resualt = '', 0\n",
        "\n",
        "    postfix = self.transform(input)\n",
        "    resualt = self.calculator(postfix)\n",
        "    return resualt\n",
        "\n",
        "\n",
        "  def transform(self, expr: str) -> str:\n",
        "    # transform infix expr into postfix expr\n",
        "    # initialize\n",
        "    stack, out = [], ''\n",
        "\n",
        "    for token in expr:\n",
        "      # if token is number(operand), add token in out(resault)\n",
        "      if token.isnumeric():\n",
        "        out += token\n",
        "      \n",
        "      elif token == '(':\n",
        "        stack.append('(')\n",
        "\n",
        "      # if token is ')', then i have to pop stack untill i get (\n",
        "      elif token == ')':\n",
        "        while stack[-1] != '(':\n",
        "          out += stack.pop()\n",
        "\n",
        "        # stack[-1] == '('\n",
        "        stack.pop()\n",
        "      \n",
        "      \n",
        "      elif token in '+-*/':\n",
        "        while len(stack) > 0:\n",
        "          if token in '+-' and stack[-1] in '*/': \n",
        "              out += stack.pop()\n",
        "\n",
        "          else:\n",
        "            break\n",
        "\n",
        "        stack.append(token)\n",
        "\n",
        "      # compare which have higher priority between token and operator which is on top of the stack\n",
        "        # if token is bigger than operator which is top of the stack, just push token onto stack\n",
        "        # on the otherhand, repeat poping an operator which is bigger than token onto stack untill i get an opearator which in less than token \n",
        "        # i have to make the code which compare operators each other more clean\n",
        "\n",
        "    while len(stack) > 0:\n",
        "      out += stack.pop()\n",
        "\n",
        "    return out\n",
        "\n",
        "  # this calculator postfix expression\n",
        "  def calculator(self, postfix: str) -> int:\n",
        "    lst = []\n",
        "\n",
        "    for token in postfix:\n",
        "      if token in '+-*/':\n",
        "        b, a, c = int(lst.pop()), int(lst.pop()), 0 \n",
        "        \n",
        "        if token == '+':\n",
        "          c = a + b\n",
        "\n",
        "        if token == '-':\n",
        "          c = a - b\n",
        "\n",
        "        if token == '*':\n",
        "          c = a * b\n",
        "\n",
        "        if token == '/':\n",
        "          c = a / b\n",
        "\n",
        "        lst.append(str(c))\n",
        "\n",
        "      else:\n",
        "        # these are number, so just put these onto list\n",
        "        lst.append(token)\n",
        "\n",
        "      \n",
        "    return lst.pop()\n",
        "\n"
      ],
      "metadata": {
        "id": "bd8-HBEjqYz5"
      },
      "execution_count": 30,
      "outputs": []
    },
    {
      "cell_type": "code",
      "source": [
        "C = Calculator()\n",
        "\n",
        "ans1 = C.work('6+3*2')\n",
        "ans2 = C.work('9+((3-2)*3)')\n",
        "ans3 = C.work('6*3*3+2')\n",
        "\n",
        "print(ans1)\n",
        "print(ans2)\n",
        "print(ans3)"
      ],
      "metadata": {
        "colab": {
          "base_uri": "https://localhost:8080/"
        },
        "id": "IePAbO3eskEt",
        "outputId": "4b76aa4f-0e4f-42fe-9db1-c2659d7e079e"
      },
      "execution_count": 35,
      "outputs": [
        {
          "output_type": "stream",
          "name": "stdout",
          "text": [
            "12\n",
            "12\n",
            "56\n"
          ]
        }
      ]
    },
    {
      "cell_type": "code",
      "source": [],
      "metadata": {
        "id": "bICBIWwpsr4w"
      },
      "execution_count": null,
      "outputs": []
    }
  ]
}