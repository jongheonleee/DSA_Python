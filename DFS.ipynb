{
  "nbformat": 4,
  "nbformat_minor": 0,
  "metadata": {
    "colab": {
      "provenance": [],
      "authorship_tag": "ABX9TyMdZREs75/y3mUkBnt32iE3",
      "include_colab_link": true
    },
    "kernelspec": {
      "name": "python3",
      "display_name": "Python 3"
    },
    "language_info": {
      "name": "python"
    }
  },
  "cells": [
    {
      "cell_type": "markdown",
      "metadata": {
        "id": "view-in-github",
        "colab_type": "text"
      },
      "source": [
        "<a href=\"https://colab.research.google.com/github/jongheonleee/DSA_Python/blob/main/DFS.ipynb\" target=\"_parent\"><img src=\"https://colab.research.google.com/assets/colab-badge.svg\" alt=\"Open In Colab\"/></a>"
      ]
    },
    {
      "cell_type": "code",
      "execution_count": 18,
      "metadata": {
        "colab": {
          "base_uri": "https://localhost:8080/"
        },
        "id": "F034f0xeC5cy",
        "outputId": "95d0941b-ac98-474b-c954-b6dcad6f381b"
      },
      "outputs": [
        {
          "output_type": "stream",
          "name": "stdout",
          "text": [
            "23\n"
          ]
        }
      ],
      "source": [
        "from types import prepare_class\n",
        "# DFS\n",
        "\n",
        "class Vertex:\n",
        "  def __init__(self, key=None):\n",
        "    self.key = key\n",
        "    self.next = None\n",
        "    self.pre = 0\n",
        "    self.mark = 0\n",
        "    self.curr_time = 0\n",
        "    self.post = 0\n",
        "    self.parent = 0\n",
        "\n",
        "# make a graph by ajacent list\n",
        "class Graph:\n",
        "  def __init__(self, set_vw: list, n: int):\n",
        "    self.arr = [0] * (n+1)\n",
        "    self.size = n\n",
        "    self.set_vw = set_vw\n",
        "\n",
        "\n",
        "  def make_graph(self) -> None:\n",
        "    # v -> w\n",
        "    for v, w in self.set_vw:\n",
        "      # make nodes with v, w as key\n",
        "      V, W = Vertex(v), Vertex(w)\n",
        "\n",
        "      curr = self.arr[V.key]\n",
        "      if curr == 0:\n",
        "        self.arr[V.key] = V\n",
        "\n",
        "      \n",
        "      else:\n",
        "        while curr.next:\n",
        "          curr = curr.next\n",
        "\n",
        "        curr.next = W\n",
        "\n",
        "    return None\n",
        "\n",
        "  def dfs(self, v: Vertex, t: int) -> int:\n",
        "      if v.mark == 1:\n",
        "        return \n",
        "\n",
        "      v.mark = 1\n",
        "      v.pre = t\n",
        "\n",
        "      t += 1\n",
        "\n",
        "      w = v.next\n",
        "      while w != None:\n",
        "        if w.mark != 1:\n",
        "          w.parent = v.key\n",
        "          t = self.dfs(w, t)\n",
        "\n",
        "        w = w.next\n",
        "\n",
        "      v.post = t\n",
        "      t += 1\n",
        "\n",
        "      return t\n",
        "  \n",
        "  def start(self) -> int:\n",
        "    for i in range(1, self.size+1):\n",
        "      if i == 1:\n",
        "        t = 1\n",
        "\n",
        "      t = self.dfs(self.arr[i], t)\n",
        "\n",
        "    return t\n",
        "      \n",
        "\n",
        "\n",
        "set_vw = [(1, 2), (1, 5), (2, 1), (2, 3), (3, 4), (4, 5), (4, 3), (4, 6), (5, 4), (5, 1), (6, 4)]\n",
        "G = Graph(set_vw, 6)\n",
        "G.make_graph()\n",
        "total_time = G.start()\n",
        "\n",
        "print(total_time)\n",
        "\n",
        "\n",
        "\n",
        "# dfs(G.arr[1])\n",
        "  \n",
        "  \n",
        "\n",
        "  \n",
        "\n"
      ]
    }
  ]
}