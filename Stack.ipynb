{
  "nbformat": 4,
  "nbformat_minor": 0,
  "metadata": {
    "colab": {
      "provenance": [],
      "authorship_tag": "ABX9TyO0sVA4IJIrpUUS2oBoVJBd",
      "include_colab_link": true
    },
    "kernelspec": {
      "name": "python3",
      "display_name": "Python 3"
    },
    "language_info": {
      "name": "python"
    }
  },
  "cells": [
    {
      "cell_type": "markdown",
      "metadata": {
        "id": "view-in-github",
        "colab_type": "text"
      },
      "source": [
        "<a href=\"https://colab.research.google.com/github/jongheonleee/DSA_Python/blob/main/Stack.ipynb\" target=\"_parent\"><img src=\"https://colab.research.google.com/assets/colab-badge.svg\" alt=\"Open In Colab\"/></a>"
      ]
    },
    {
      "cell_type": "code",
      "execution_count": 1,
      "metadata": {
        "colab": {
          "base_uri": "https://localhost:8080/"
        },
        "id": "z7h4vGgRZDIt",
        "outputId": "c5a08b37-c279-4da7-9558-d847218f5239"
      },
      "outputs": [
        {
          "output_type": "stream",
          "name": "stdout",
          "text": [
            "6\n",
            "5\n",
            "4\n"
          ]
        }
      ],
      "source": [
        "class Stack:\n",
        "  def __init__(self):\n",
        "    self.items = []\n",
        "    \n",
        "\n",
        "  def push(self, key: int):\n",
        "    self.items.append(key)\n",
        "\n",
        "  def pop(self):\n",
        "    try:\n",
        "      return self.items.pop()\n",
        "\n",
        "    except IndexError:\n",
        "      print(\"stack is empty\")\n",
        "\n",
        "  def top(self):\n",
        "    try:\n",
        "      return self.items[-1]\n",
        "\n",
        "    except IndexError:\n",
        "      print(\"stack is empty\")\n",
        "\n",
        "  def __len__(self):\n",
        "    return len(self.items)\n",
        "\n",
        "  def is_empty(self):\n",
        "    return len(self) == 0\n",
        "\n",
        "\n",
        "st = Stack()\n",
        "for i in range(3, 7):\n",
        "  st.push(i)\n",
        "\n",
        "for _ in range(3):\n",
        "  print(st.pop())\n",
        "\n",
        "\n"
      ]
    }
  ]
}