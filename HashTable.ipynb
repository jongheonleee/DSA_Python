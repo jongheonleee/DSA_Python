{
  "nbformat": 4,
  "nbformat_minor": 0,
  "metadata": {
    "colab": {
      "provenance": [],
      "authorship_tag": "ABX9TyO2dzQPOGyaf2KNgLiNAEue",
      "include_colab_link": true
    },
    "kernelspec": {
      "name": "python3",
      "display_name": "Python 3"
    },
    "language_info": {
      "name": "python"
    }
  },
  "cells": [
    {
      "cell_type": "markdown",
      "metadata": {
        "id": "view-in-github",
        "colab_type": "text"
      },
      "source": [
        "<a href=\"https://colab.research.google.com/github/jongheonleee/DSA_Python/blob/main/HashTable.ipynb\" target=\"_parent\"><img src=\"https://colab.research.google.com/assets/colab-badge.svg\" alt=\"Open In Colab\"/></a>"
      ]
    },
    {
      "cell_type": "code",
      "execution_count": 1,
      "metadata": {
        "id": "1CwGI_nl8uHa"
      },
      "outputs": [],
      "source": [
        "\"\"\"\n",
        "https://stephenagrice.medium.com/how-to-implement-a-hash-table-in-python-1eb6c55019fd\n",
        "\"\"\"\n",
        "# it's implemented by LL\n",
        "class Node:\n",
        "  def __init__(self, key, value):\n",
        "    self.key = key\n",
        "    self.value = value\n",
        "    self.next = None\n",
        "\n",
        "\n",
        "class HashTable:\n",
        "  def __init__(self, m: int):\n",
        "    self.capacity = m\n",
        "    self.size = 0\n",
        "    self.buckets = [None] * self.capacity\n",
        "\n",
        "  def hash(self, key):\n",
        "    hash_sum = 0\n",
        "\n",
        "    for idx, c in enumerate(key):\n",
        "      hash_sum += (idx + len(ley)) ** ord(c)\n",
        "      hash_sum = hash_sum % self.capacity\n",
        "\n",
        "    return hash_sum\n",
        "\n",
        "  def insert(self, key, value):\n",
        "    # increment size\n",
        "    self.size += 1\n",
        "\n",
        "    # compute index of key\n",
        "    index = self.hash(key)\n",
        "    node = self.buckets[index]\n",
        "\n",
        "    if node is None:\n",
        "      # create node, add it, return\n",
        "      self.buckets[index] = Node(key, value)\n",
        "      return \n",
        "\n",
        "    # Collision, iterate to the end of the LL at provided index\n",
        "    prev = node\n",
        "    while node != None:\n",
        "      prev = node\n",
        "      node = node.next\n",
        "\n",
        "    # add a new node at the end of the LL with provided key/value\n",
        "    prev.next = Node(key, value)\n",
        "\n",
        "  def find(self, key):\n",
        "    # compute hash\n",
        "    index = self.hash(key)\n",
        "\n",
        "    # fo to first node in list at bucket\n",
        "    node = self.buckets[index]\n",
        "\n",
        "    # traverse the LL at this node\n",
        "    while node != None and node.key != key:\n",
        "      node = node.next\n",
        "\n",
        "    if node == None:\n",
        "      # not found\n",
        "      return None\n",
        "\n",
        "    else:\n",
        "      # found, return node.value\n",
        "      return node.value\n",
        "\n",
        "\n",
        "  def remove(self, key):\n",
        "    # compute hash\n",
        "    index = self.hash(key)\n",
        "    node = self.buckets[index]\n",
        "    prev = None\n",
        "\n",
        "\n",
        "    # iterate to requested node\n",
        "    while node != None and node.key != key:\n",
        "      prev = node\n",
        "      node = node.next\n",
        "\n",
        "    # node, node is either the requested node or none\n",
        "    \n",
        "    # key not found\n",
        "    if node == None:\n",
        "      return None\n",
        "\n",
        "    # key was found\n",
        "    else:\n",
        "      self.size -= 1\n",
        "      result = node.value\n",
        "\n",
        "      # delete this element in LL\n",
        "      if prev == None:\n",
        "        node = None\n",
        "\n",
        "      else:\n",
        "        prev.next = prev.next.next\n",
        "\n",
        "      return result\n",
        "\n",
        "    \n",
        "\n",
        "\n",
        "  "
      ]
    },
    {
      "cell_type": "code",
      "source": [
        "\"\"\"\n",
        "http://paulmouzas.github.io/2014/12/31/implementing-a-hash-table.html\n",
        "https://blog.chapagain.com.np/hash-table-implementation-in-python-data-structures-algorithms/\n",
        "\"\"\"\n",
        "\n"
      ],
      "metadata": {
        "colab": {
          "base_uri": "https://localhost:8080/",
          "height": 36
        },
        "id": "PgB1j3c0A60E",
        "outputId": "c0a1e5c4-d650-4414-e550-d2a7e1134d11"
      },
      "execution_count": 2,
      "outputs": [
        {
          "output_type": "execute_result",
          "data": {
            "text/plain": [
              "'\\nhttp://paulmouzas.github.io/2014/12/31/implementing-a-hash-table.html\\nhttps://blog.chapagain.com.np/hash-table-implementation-in-python-data-structures-algorithms/\\n'"
            ],
            "application/vnd.google.colaboratory.intrinsic+json": {
              "type": "string"
            }
          },
          "metadata": {},
          "execution_count": 2
        }
      ]
    },
    {
      "cell_type": "code",
      "source": [],
      "metadata": {
        "id": "b2XTr0akBUwF"
      },
      "execution_count": null,
      "outputs": []
    }
  ]
}