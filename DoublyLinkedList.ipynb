{
  "nbformat": 4,
  "nbformat_minor": 0,
  "metadata": {
    "colab": {
      "provenance": [],
      "authorship_tag": "ABX9TyMQf+/+0TRertXnGYfNl9SJ",
      "include_colab_link": true
    },
    "kernelspec": {
      "name": "python3",
      "display_name": "Python 3"
    },
    "language_info": {
      "name": "python"
    }
  },
  "cells": [
    {
      "cell_type": "markdown",
      "metadata": {
        "id": "view-in-github",
        "colab_type": "text"
      },
      "source": [
        "<a href=\"https://colab.research.google.com/github/jongheonleee/DSA_Python/blob/main/DoublyLinkedList.ipynb\" target=\"_parent\"><img src=\"https://colab.research.google.com/assets/colab-badge.svg\" alt=\"Open In Colab\"/></a>"
      ]
    },
    {
      "cell_type": "code",
      "execution_count": null,
      "metadata": {
        "id": "9d_Dd9P21TQ0"
      },
      "outputs": [],
      "source": [
        "class Node:\n",
        "  def __init__(self, key = None):\n",
        "    self.key = key\n",
        "    self.prev = self\n",
        "    self.next = self\n",
        "\n",
        "  def __str__(self) -> str:\n",
        "    return str(self.key)\n",
        "\n",
        "# it's based on Circular Doubly Linked List \n",
        "class DoublyLinkedList:\n",
        "  def __init__(self): \n",
        "    self.head = Node()\n",
        "    self.size = 0\n",
        "\n",
        "  def __iter__(self):\n",
        "    if len(self) == 0:\n",
        "      return None\n",
        "\n",
        "    node = self.head.next\n",
        "    while node != self.head:\n",
        "      yield node\n",
        "      node = node.next\n",
        "\n",
        "\n",
        "  def __len__(self) -> int:\n",
        "    return self.size\n",
        "\n",
        "  # illustrate DLL\n",
        "  def __str__(self):\n",
        "    if len(self) == 0:\n",
        "      return None\n",
        "\n",
        "    else:\n",
        "      str_dl = ''\n",
        "      curr = self.head.next\n",
        "\n",
        "      while curr != self.head:\n",
        "        str_dl += str(curr.key) + '->'\n",
        "        curr = curr.next\n",
        "\n",
        "      str_dl += 'None'\n",
        "\n",
        "    return str_dl\n",
        "\n",
        "  # this is really important for DLL, it can used by so many method like remove(), search(), ...\n",
        "  def splice(self, a, b, x) -> None:\n",
        "    # conditions\n",
        "    # 1. b must be the same or after a\n",
        "    # 2. there isn't the head and the x between a and b\n",
        "\n",
        "    ap, bn, xn = a.prev, b.next, x.next\n",
        "\n",
        "    # cut sub-DLL that starts at a and ends at b in DLL\n",
        "    ap.next = bn\n",
        "    bn.next = ap\n",
        "\n",
        "    # paste sub-DLL after x\n",
        "    x.next = a\n",
        "    a.prev = x\n",
        "    b.next = xn\n",
        "    xn.prev = b\n",
        "\n",
        "    return None\n",
        "\n",
        "\n",
        "\n",
        "\n",
        "\n",
        "  "
      ]
    }
  ]
}