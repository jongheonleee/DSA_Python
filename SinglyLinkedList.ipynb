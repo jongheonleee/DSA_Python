{
  "nbformat": 4,
  "nbformat_minor": 0,
  "metadata": {
    "colab": {
      "provenance": [],
      "authorship_tag": "ABX9TyPLRHDgCynIWd/9DbqSKdVh",
      "include_colab_link": true
    },
    "kernelspec": {
      "name": "python3",
      "display_name": "Python 3"
    },
    "language_info": {
      "name": "python"
    }
  },
  "cells": [
    {
      "cell_type": "markdown",
      "metadata": {
        "id": "view-in-github",
        "colab_type": "text"
      },
      "source": [
        "<a href=\"https://colab.research.google.com/github/jongheonleee/DSA_Python/blob/main/SinglyLinkedList.ipynb\" target=\"_parent\"><img src=\"https://colab.research.google.com/assets/colab-badge.svg\" alt=\"Open In Colab\"/></a>"
      ]
    },
    {
      "cell_type": "code",
      "execution_count": 15,
      "metadata": {
        "id": "ywNz7d8UJHIW"
      },
      "outputs": [],
      "source": [
        "# defind the Node's class for singly linked list\n",
        "class Node:\n",
        "  def __init__(self, key=None):\n",
        "    self.key = key\n",
        "    # it's link connected a node after the node\n",
        "    self.next = None\n",
        "\n",
        "  def __str__(self) -> str:\n",
        "    # i can print node.val as print(node)\n",
        "    return str(self.key)\n",
        "\n",
        "# defind singly linked list's class\n",
        "class SinglyLinkedList:\n",
        "  def __init__(self):\n",
        "    self.head = None\n",
        "    self.size = 0 \n",
        "\n",
        "\n",
        "  def push(self, key: int) -> None:\n",
        "    new_node = Node(key)\n",
        "    if self.head == None:\n",
        "      self.head = new_node\n",
        "      return None\n",
        "\n",
        "    # travers the node which is at end of SLL\n",
        "    curr = self.head\n",
        "    while curr and curr.next != None:\n",
        "      curr = curr.next\n",
        "\n",
        "    # connecte new node after curr\n",
        "    curr.next = new_node\n",
        "    self.size += 1\n",
        "    return None\n",
        "\n",
        "  def remove(self, loc: int) -> None:\n",
        "    \n",
        "    # finding a node which is right before the node has loc as location\n",
        "    curr = self.head\n",
        "    step = 0\n",
        "\n",
        "    while step < loc-1:\n",
        "      curr = curr.next\n",
        "      step += 1\n",
        "    \n",
        "    # now step == loc -1 \n",
        "    tmp = curr.next\n",
        "    if step != self.size-1:\n",
        "      curr.next = curr.next.next\n",
        "\n",
        "    else:\n",
        "      curr.next = None\n",
        "    \n",
        "    del tmp\n",
        "    return None\n",
        "\n",
        "  def __len__(self):\n",
        "    return self.size\n",
        "\n",
        "  # ilustrate sll\n",
        "  def __str__(self):\n",
        "    if self.size == 0:\n",
        "      return None\n",
        "\n",
        "    else:\n",
        "      str_ll = ''\n",
        "      curr = self.head\n",
        "\n",
        "      while curr:\n",
        "        str_ll += str(curr.key) + '->'\n",
        "        curr = curr.next\n",
        "\n",
        "      str_ll += 'None'\n",
        "\n",
        "    return str_ll\n",
        "\n"
      ]
    },
    {
      "cell_type": "code",
      "source": [
        "sll = SinglyLinkedList()\n",
        "\n",
        "for v in range(1, 6):\n",
        "  sll.push(v)\n",
        "\n",
        "print(sll)\n"
      ],
      "metadata": {
        "colab": {
          "base_uri": "https://localhost:8080/"
        },
        "id": "Xtpyw0SMNEAo",
        "outputId": "65069461-9238-461b-b5e6-36779f61e024"
      },
      "execution_count": 16,
      "outputs": [
        {
          "output_type": "stream",
          "name": "stdout",
          "text": [
            "1->2->3->4->5->None\n"
          ]
        }
      ]
    },
    {
      "cell_type": "code",
      "source": [],
      "metadata": {
        "id": "K74pOOZbNZ8a"
      },
      "execution_count": null,
      "outputs": []
    }
  ]
}