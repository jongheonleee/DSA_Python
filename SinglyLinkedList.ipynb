{
  "nbformat": 4,
  "nbformat_minor": 0,
  "metadata": {
    "colab": {
      "provenance": [],
      "authorship_tag": "ABX9TyM76vgsqiu0zA2/mAhu88Fz",
      "include_colab_link": true
    },
    "kernelspec": {
      "name": "python3",
      "display_name": "Python 3"
    },
    "language_info": {
      "name": "python"
    }
  },
  "cells": [
    {
      "cell_type": "markdown",
      "metadata": {
        "id": "view-in-github",
        "colab_type": "text"
      },
      "source": [
        "<a href=\"https://colab.research.google.com/github/jongheonleee/DSA_Python/blob/main/SinglyLinkedList.ipynb\" target=\"_parent\"><img src=\"https://colab.research.google.com/assets/colab-badge.svg\" alt=\"Open In Colab\"/></a>"
      ]
    },
    {
      "cell_type": "code",
      "execution_count": 17,
      "metadata": {
        "id": "ywNz7d8UJHIW"
      },
      "outputs": [],
      "source": [
        "# defind the Node's class for singly linked list\n",
        "class Node:\n",
        "  def __init__(self, key=None):\n",
        "    self.key = key\n",
        "    # it's link connected a node after the node\n",
        "    self.next = None\n",
        "\n",
        "  def __str__(self) -> str:\n",
        "    # i can print node.val as print(node)\n",
        "    return str(self.key)\n",
        "\n",
        "# defind singly linked list's class\n",
        "class SinglyLinkedListMine:\n",
        "  def __init__(self):\n",
        "    self.head = None\n",
        "    self.size = 0 \n",
        "\n",
        "\n",
        "  def push(self, key: int) -> None:\n",
        "    new_node = Node(key)\n",
        "    if self.head == None:\n",
        "      self.head = new_node\n",
        "      return None\n",
        "\n",
        "    # travers the node which is at end of SLL\n",
        "    curr = self.head\n",
        "    while curr and curr.next != None:\n",
        "      curr = curr.next\n",
        "\n",
        "    # connecte new node after curr\n",
        "    curr.next = new_node\n",
        "    self.size += 1\n",
        "    return None\n",
        "\n",
        "  def remove(self, loc: int) -> None:\n",
        "    \n",
        "    # finding a node which is right before the node has loc as location\n",
        "    curr = self.head\n",
        "    step = 0\n",
        "\n",
        "    while step < loc-1:\n",
        "      curr = curr.next\n",
        "      step += 1\n",
        "    \n",
        "    # now step == loc -1 \n",
        "    tmp = curr.next\n",
        "    if step != self.size-1:\n",
        "      curr.next = curr.next.next\n",
        "\n",
        "    else:\n",
        "      curr.next = None\n",
        "    \n",
        "    del tmp\n",
        "    return None\n",
        "\n",
        "  def __len__(self):\n",
        "    return self.size\n",
        "\n",
        "  # ilustrate sll\n",
        "  def __str__(self):\n",
        "    if self.size == 0:\n",
        "      return None\n",
        "\n",
        "    else:\n",
        "      str_ll = ''\n",
        "      curr = self.head\n",
        "\n",
        "      while curr:\n",
        "        str_ll += str(curr.key) + '->'\n",
        "        curr = curr.next\n",
        "\n",
        "      str_ll += 'None'\n",
        "\n",
        "    return str_ll\n",
        "\n"
      ]
    },
    {
      "cell_type": "code",
      "source": [
        "sll = SinglyLinkedListMine()\n",
        "\n",
        "for v in range(1, 6):\n",
        "  sll.push(v)\n",
        "\n",
        "print(sll)\n"
      ],
      "metadata": {
        "colab": {
          "base_uri": "https://localhost:8080/"
        },
        "id": "Xtpyw0SMNEAo",
        "outputId": "3321f91f-e133-4a6b-882e-604efd37ea7a"
      },
      "execution_count": 18,
      "outputs": [
        {
          "output_type": "stream",
          "name": "stdout",
          "text": [
            "1->2->3->4->5->None\n"
          ]
        }
      ]
    },
    {
      "cell_type": "code",
      "source": [
        "'''\n",
        "after whaching lecture of LL,\n",
        "i made SLL's class \n",
        "'''\n",
        "\n",
        "# defind the Node's class for singly linked list\n",
        "class Node:\n",
        "  def __init__(self, key=None):\n",
        "    self.key = key\n",
        "    # it's link connected a node after the node\n",
        "    self.next = None\n",
        "\n",
        "  def __str__(self) -> str:\n",
        "    # i can print node.val as print(node)\n",
        "    return str(self.key)\n",
        "\n",
        "class SinglyLinkedList:\n",
        "  def __init__(self):\n",
        "    self.head = None\n",
        "    self.size = 0\n",
        "\n",
        "  # O(1)\n",
        "  def push_front(self, key: int) -> None:\n",
        "    # make a new node\n",
        "    new_node = Node(key)\n",
        "    \n",
        "    self.head, new_node.next = new_node, self.head\n",
        "    self.size += 1\n",
        "\n",
        "    return None\n",
        "    \n",
        "  # O(N) \n",
        "  def push_back(self, key: int) -> None:\n",
        "    new_node = Node(key)\n",
        "\n",
        "    if len(self) == 0:\n",
        "      self.head = new_node\n",
        "\n",
        "    else:\n",
        "      tail = self.head\n",
        "      # finding tail node\n",
        "      while tail.next != None:\n",
        "        tail = tail.next\n",
        "\n",
        "      tail.next = new_node\n",
        "\n",
        "    self.size += 1\n",
        "\n",
        "    return None\n",
        "\n",
        "  # O(1)\n",
        "  def pop_front(self) -> int:\n",
        "    if len(self) == 0:\n",
        "      return None\n",
        "\n",
        "    else:\n",
        "      target = self.head\n",
        "      key = target.key\n",
        "      self.head = target.next\n",
        "      self.size -= 1\n",
        "\n",
        "      del target\n",
        "      return key\n",
        "\n",
        "  # O(N)\n",
        "  def pop_back(self) -> int:\n",
        "    if len(self) == 0:\n",
        "      return None\n",
        "\n",
        "    else:\n",
        "      # running technique\n",
        "      prev, tail = None, self.head\n",
        "      while tail.next != None:\n",
        "        prev, tail = tail, tail.next\n",
        "\n",
        "      if len(self) == 1:\n",
        "        self.head = None\n",
        "\n",
        "      else:\n",
        "        # tail.next is None\n",
        "        prev.next = tail.next\n",
        "\n",
        "      key = tail.key\n",
        "      del tail\n",
        "      self.size -= 1\n",
        "\n",
        "      return key\n",
        "\n",
        "  def __len__(self):\n",
        "    return self.size\n",
        "\n",
        "  # illustrate SLL\n",
        "  def __str__(self):\n",
        "    if self.size == 0:\n",
        "      return None\n",
        "\n",
        "    else:\n",
        "      str_L = ''\n",
        "      curr = self.head\n",
        "\n",
        "      while curr:\n",
        "        str_L += str(curr.key) + '->'\n",
        "        curr = curr.next\n",
        "\n",
        "      str_L += 'None'\n",
        "\n",
        "    return str_L\n",
        "\n",
        "'''\n",
        "what about the SLL having a tail that pointed to a node at the end of the SLL?\n",
        "therefore, i can uses push_back, pop_back's method in O(1)\n",
        "'''"
      ],
      "metadata": {
        "id": "K74pOOZbNZ8a",
        "colab": {
          "base_uri": "https://localhost:8080/",
          "height": 36
        },
        "outputId": "168979b8-cd9f-4a18-b134-2141ccaa2d5a"
      },
      "execution_count": 19,
      "outputs": [
        {
          "output_type": "execute_result",
          "data": {
            "text/plain": [
              "\"\\nwhat about the SLL having a tail that pointed to a node at the end of the SLL?\\ntherefore, i can uses push_back, pop_back's method in O(1)\\n\""
            ],
            "application/vnd.google.colaboratory.intrinsic+json": {
              "type": "string"
            }
          },
          "metadata": {},
          "execution_count": 19
        }
      ]
    },
    {
      "cell_type": "code",
      "source": [
        "sll = SinglyLinkedList()\n",
        "\n",
        "for v in range(1, 6):\n",
        "  sll.push_front(v)\n",
        "\n",
        "print(sll)\n",
        "\n",
        "sll2 = SinglyLinkedList()\n",
        "\n",
        "for v in range(1, 6):\n",
        "  sll2.push_back(v)\n",
        "\n",
        "print(sll2)"
      ],
      "metadata": {
        "colab": {
          "base_uri": "https://localhost:8080/"
        },
        "id": "cWdUnbZHlir-",
        "outputId": "5a42ec7f-a9ff-4d43-cd54-09d7ec8fc96b"
      },
      "execution_count": 20,
      "outputs": [
        {
          "output_type": "stream",
          "name": "stdout",
          "text": [
            "5->4->3->2->1->None\n",
            "1->2->3->4->5->None\n"
          ]
        }
      ]
    },
    {
      "cell_type": "code",
      "source": [
        "for _ in range(3):\n",
        "  key = sll.pop_back()\n",
        "  print(key)\n",
        "\n",
        "print(sll)\n",
        "\n",
        "\n",
        "print('\\n====================\\n')\n",
        "\n",
        "for _ in range(3):\n",
        "  key2 = sll2.pop_front()\n",
        "  print(key2)\n",
        "\n",
        "print(sll2)"
      ],
      "metadata": {
        "colab": {
          "base_uri": "https://localhost:8080/"
        },
        "id": "WqhTLgmMmkS4",
        "outputId": "2f01de32-ad72-42cb-ab14-60d53e700091"
      },
      "execution_count": 21,
      "outputs": [
        {
          "output_type": "stream",
          "name": "stdout",
          "text": [
            "1\n",
            "2\n",
            "3\n",
            "5->4->None\n",
            "\n",
            "====================\n",
            "\n",
            "1\n",
            "2\n",
            "3\n",
            "4->5->None\n"
          ]
        }
      ]
    },
    {
      "cell_type": "code",
      "source": [],
      "metadata": {
        "id": "nvR_htQsnY__"
      },
      "execution_count": null,
      "outputs": []
    }
  ]
}