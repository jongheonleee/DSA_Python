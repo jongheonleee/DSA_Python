{
  "nbformat": 4,
  "nbformat_minor": 0,
  "metadata": {
    "colab": {
      "provenance": [],
      "authorship_tag": "ABX9TyOG6HczeP3+qZFrmE9b1mLg",
      "include_colab_link": true
    },
    "kernelspec": {
      "name": "python3",
      "display_name": "Python 3"
    },
    "language_info": {
      "name": "python"
    }
  },
  "cells": [
    {
      "cell_type": "markdown",
      "metadata": {
        "id": "view-in-github",
        "colab_type": "text"
      },
      "source": [
        "<a href=\"https://colab.research.google.com/github/jongheonleee/DSA_Python/blob/main/UnionFind.ipynb\" target=\"_parent\"><img src=\"https://colab.research.google.com/assets/colab-badge.svg\" alt=\"Open In Colab\"/></a>"
      ]
    },
    {
      "cell_type": "code",
      "execution_count": 7,
      "metadata": {
        "colab": {
          "base_uri": "https://localhost:8080/"
        },
        "id": "FZ44bEDr5H_o",
        "outputId": "8a94a61e-b4b7-49f1-916d-51f466966c92"
      },
      "outputs": [
        {
          "output_type": "stream",
          "name": "stdout",
          "text": [
            "4\n"
          ]
        }
      ],
      "source": [
        "class Node:\n",
        "  def __init__(self, key: int):\n",
        "    self.key = key\n",
        "    self.parent = self\n",
        "    self.rank = 0\n",
        "\n",
        "class UnionFind:\n",
        "  def __init__(self):\n",
        "    self.root = None\n",
        "\n",
        "  def make_set(self, x: int) -> Node:\n",
        "    return Node(x)\n",
        "\n",
        "  def find(self, x: Node) -> Node:\n",
        "    # return root node\n",
        "    if x is None:\n",
        "      return None\n",
        "\n",
        "    while x != x.parent:\n",
        "      x = x.parent\n",
        "\n",
        "    return x\n",
        "\n",
        "  def union(self, x: Node, y: Node) -> Node:\n",
        "    v, w = self.find(x), self.find(y)\n",
        "\n",
        "    if v != w:\n",
        "      if v.rank > w.rank:\n",
        "        v, w = w, v\n",
        "\n",
        "      v.parent = w\n",
        "\n",
        "      if v.rank == w.rank:\n",
        "        w.rank += 1\n",
        "\n",
        "    self.root = w\n",
        "    return w\n",
        "\n",
        "tmp = []\n",
        "uf = UnionFind()\n",
        "\n",
        "for i in range(1, 5):\n",
        "  tmp.append(uf.make_set(i))\n",
        "\n",
        "# odd, even\n",
        "i, j = 0, 1\n",
        "\n",
        "while i < 5 and j < 5:\n",
        "  v, w = tmp[i], tmp[j]\n",
        "  t = uf.union(v, w)\n",
        "  i += 2\n",
        "  j += 2\n",
        "\n",
        "\n",
        "print(t.key)\n",
        "\n",
        "\n",
        "  \n",
        "\n",
        "  \n",
        "    "
      ]
    },
    {
      "cell_type": "code",
      "source": [],
      "metadata": {
        "id": "pWc33E7l6alZ"
      },
      "execution_count": null,
      "outputs": []
    }
  ]
}