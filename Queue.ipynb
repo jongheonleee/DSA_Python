{
  "nbformat": 4,
  "nbformat_minor": 0,
  "metadata": {
    "colab": {
      "provenance": [],
      "authorship_tag": "ABX9TyMpzC0yBrsxlb0ptaB41wEY",
      "include_colab_link": true
    },
    "kernelspec": {
      "name": "python3",
      "display_name": "Python 3"
    },
    "language_info": {
      "name": "python"
    }
  },
  "cells": [
    {
      "cell_type": "markdown",
      "metadata": {
        "id": "view-in-github",
        "colab_type": "text"
      },
      "source": [
        "<a href=\"https://colab.research.google.com/github/jongheonleee/DSA/blob/main/Queue.ipynb\" target=\"_parent\"><img src=\"https://colab.research.google.com/assets/colab-badge.svg\" alt=\"Open In Colab\"/></a>"
      ]
    },
    {
      "cell_type": "code",
      "execution_count": 43,
      "metadata": {
        "id": "mc65pqicw2vy"
      },
      "outputs": [],
      "source": [
        "#implemente Queue\n",
        "class Queue:\n",
        "  def __init__(self, k: int):\n",
        "    self.items = []\n",
        "    self.front_idx = 0\n",
        "    self.size = k\n",
        "\n",
        "  def enqueue(self, item: int) -> None:\n",
        "    if self.__len__() < self.size:\n",
        "      self.items.append(item)    \n",
        "\n",
        "    else:\n",
        "      print(f'Queue is full!, the size of Queue is {self.size}')\n",
        "      ans = input('if you want to resize of Queue, then answer 1 otherhand 0 :')\n",
        "\n",
        "      # resize Queue\n",
        "      if ans == \"1\":\n",
        "        new_size = int(input(f'now, size of Queue is {self.size}, you should enter a number bigger than {self.size}: '))\n",
        "\n",
        "        while new_size < self.size:\n",
        "          print('you enter a wrong number')\n",
        "          new_size = int(input('try again: '))\n",
        "\n",
        "        self.size = new_size\n",
        "        self.items.append(item)\n",
        "        print(f'now size of Queue is {self.size} and push {item} in Queue')\n",
        "    \n",
        "    return None\n",
        "    \n",
        "\n",
        "  def dequeue(self) -> int:\n",
        "    if self.__len__() > 0:\n",
        "      if self.front_idx < self.__len__():\n",
        "        item = self.items[self.front_idx]\n",
        "        self.front_idx += 1\n",
        "\n",
        "        return item\n",
        "      \n",
        "      else:\n",
        "        print('Queue is Empty')\n",
        "        ans = input(\"if you want to initialize Queue, then answer 1 otherwise 0: \")\n",
        "\n",
        "        # pop all items in Queue, also make self.front_idx initialized\n",
        "        if ans == \"1\":\n",
        "          # i repeat this work untill i get Empty Queue\n",
        "          while self.__len__() >= 1:\n",
        "            self.items.pop()\n",
        "            self.front_idx -= 1\n",
        "\n",
        "          print(f\"now, Queue was initialized, self.front_idx = {self.front_idx} and Queue is {self.items}\")\n",
        "\n",
        "    # there isnt any item in Queue\n",
        "    else:\n",
        "      print('there isnt any item')\n",
        "\n",
        "  def __len__(self):\n",
        "    return len(self.items)\n",
        "\n"
      ]
    },
    {
      "cell_type": "code",
      "source": [
        "# test\n",
        "Q = Queue(4)\n",
        "for i in range(1, 5):\n",
        "  Q.enqueue(i)\n",
        "\n",
        "print(Q.items)\n",
        "\n",
        "for j in range(0, 5):\n",
        "  x = Q.dequeue()\n",
        "  print(x)\n",
        "\n",
        "\n"
      ],
      "metadata": {
        "colab": {
          "base_uri": "https://localhost:8080/"
        },
        "id": "ghdHcY742ABz",
        "outputId": "3c4e3dd2-a244-4787-82e4-82fe56bd05be"
      },
      "execution_count": 44,
      "outputs": [
        {
          "output_type": "stream",
          "name": "stdout",
          "text": [
            "[1, 2, 3, 4]\n",
            "1\n",
            "2\n",
            "3\n",
            "4\n",
            "Queue is Empty\n",
            "if you want to initialize Queue, then answer 1 otherwise 0: 1\n",
            "now, Queue was initialized, self.front_idx = 0 and Queue is []\n",
            "None\n"
          ]
        }
      ]
    },
    {
      "cell_type": "code",
      "source": [
        "# input() is going to pop a given input as string\n",
        "# you should mind that"
      ],
      "metadata": {
        "id": "9FAyWmdM5-mD"
      },
      "execution_count": 45,
      "outputs": []
    },
    {
      "cell_type": "code",
      "source": [],
      "metadata": {
        "id": "V8yuXMtd7OHs"
      },
      "execution_count": null,
      "outputs": []
    }
  ]
}