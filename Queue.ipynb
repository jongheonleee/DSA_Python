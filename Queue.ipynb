{
  "nbformat": 4,
  "nbformat_minor": 0,
  "metadata": {
    "colab": {
      "provenance": [],
      "authorship_tag": "ABX9TyP3GZokXWRljR7DPdEzPJuz",
      "include_colab_link": true
    },
    "kernelspec": {
      "name": "python3",
      "display_name": "Python 3"
    },
    "language_info": {
      "name": "python"
    }
  },
  "cells": [
    {
      "cell_type": "markdown",
      "metadata": {
        "id": "view-in-github",
        "colab_type": "text"
      },
      "source": [
        "<a href=\"https://colab.research.google.com/github/jongheonleee/DSA_Python/blob/main/Queue.ipynb\" target=\"_parent\"><img src=\"https://colab.research.google.com/assets/colab-badge.svg\" alt=\"Open In Colab\"/></a>"
      ]
    },
    {
      "cell_type": "code",
      "execution_count": 2,
      "metadata": {
        "colab": {
          "base_uri": "https://localhost:8080/"
        },
        "id": "IiCmQV0qa_9P",
        "outputId": "9d139068-1775-4350-8707-7e608e9cc84b"
      },
      "outputs": [
        {
          "output_type": "stream",
          "name": "stdout",
          "text": [
            "3\n",
            "4\n",
            "5\n",
            "6\n"
          ]
        }
      ],
      "source": [
        "class Queue:\n",
        "  def __init__(self):\n",
        "    self.items = []\n",
        "    self.front_idx = 0\n",
        "\n",
        "  def enqueue(self, key: int):\n",
        "    self.items.append(key)\n",
        "  \n",
        "  def dequeue(self):\n",
        "    if len(self) == 0 or len(self.items) == 0:\n",
        "      print(\"Q is empty\")\n",
        "      return\n",
        "\n",
        "    x = self.items[self.front_idx]\n",
        "    self.front_idx += 1\n",
        "    return x\n",
        "\n",
        "  def is_empty(self):\n",
        "    return len(self) == 0\n",
        "\n",
        "  def front(self):\n",
        "    if len(self) == 0:\n",
        "      print(\"Q is empty\")\n",
        "      return\n",
        "\n",
        "    return self.items[self.front_idx]\n",
        "\n",
        "  def __len__(self):\n",
        "    return len(self.items) - self.front_idx\n",
        "\n",
        "\n",
        "q = Queue()\n",
        "\n",
        "for i in range(3, 7):\n",
        "  q.enqueue(i)\n",
        "\n",
        "for _ in range(4):\n",
        "  print(q.dequeue())\n",
        "\n",
        "\n",
        "\n",
        "\n",
        "    "
      ]
    }
  ]
}