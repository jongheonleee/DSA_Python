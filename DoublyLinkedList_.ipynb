{
  "nbformat": 4,
  "nbformat_minor": 0,
  "metadata": {
    "colab": {
      "provenance": [],
      "authorship_tag": "ABX9TyPEj+CrArIUF1vbe/bpTtRF",
      "include_colab_link": true
    },
    "kernelspec": {
      "name": "python3",
      "display_name": "Python 3"
    },
    "language_info": {
      "name": "python"
    }
  },
  "cells": [
    {
      "cell_type": "markdown",
      "metadata": {
        "id": "view-in-github",
        "colab_type": "text"
      },
      "source": [
        "<a href=\"https://colab.research.google.com/github/jongheonleee/DSA_Python/blob/main/DoublyLinkedList_.ipynb\" target=\"_parent\"><img src=\"https://colab.research.google.com/assets/colab-badge.svg\" alt=\"Open In Colab\"/></a>"
      ]
    },
    {
      "cell_type": "code",
      "execution_count": 1,
      "metadata": {
        "id": "uIbVJbjHOoB7"
      },
      "outputs": [],
      "source": [
        "class Node:\n",
        "  def __init__(self, key=None) -> None:\n",
        "    self.key = key\n",
        "    self.prev = None\n",
        "    self.next = None\n",
        "\n",
        "  def __str__(self):\n",
        "    return str(self.key)\n",
        "\n",
        "\n"
      ]
    },
    {
      "cell_type": "code",
      "source": [
        "class DoublyLinkedList:\n",
        "  def __init__(self):\n",
        "    self.head = Node()\n",
        "    self.tail = Node()\n",
        "    # connected each other\n",
        "    self.head.next = self.tail\n",
        "    self.tail.prev = self.head\n",
        "    self.size = 0\n",
        "\n",
        "\n",
        "  def push_front(self, key=None) -> None:\n",
        "    new_node = Node(key)\n",
        "\n",
        "    if self.size == 0:\n",
        "      self.head.next = new_node\n",
        "      new_node.prev = self.head\n",
        "\n",
        "      self.tail.prev = new_node\n",
        "      new_node.next = self.size\n",
        "\n",
        "    else:\n",
        "      # push new node at front of DLL\n",
        "      first_node = self.head\n",
        "      self.head = new_node\n",
        "\n",
        "      new_node.next = first_node\n",
        "      first_node.prev = new_node\n",
        "\n",
        "    self.size += 1\n",
        "\n",
        "  def push_back(self, key=None) -> None:\n",
        "    new_node = Node(key)\n",
        "\n",
        "    if self.size == 0:\n",
        "      self.head.next = new_node\n",
        "      new_node.prev = self.head\n",
        "\n",
        "      self.tail.prev = new_node\n",
        "      new_node.next = self.size\n",
        "\n",
        "    else:\n",
        "      # push new node at end of DLL\n",
        "      last_node = self.tail\n",
        "      self.tail = new_node\n",
        "\n",
        "      new_node.prev = last_node\n",
        "      last_node.next = new_node\n",
        "\n",
        "    self.size += 1\n",
        "\n",
        "  def remove(self, loc: int) -> int:\n",
        "    if self.size == 0:\n",
        "      print('DLL is empty')\n",
        "\n",
        "    if self.size//2 >= loc:\n",
        "      # at first, travers DLL at front of DLL then finds node at right before target and node at right after target\n",
        "      curr = self.head \n",
        "      step = 0\n",
        "      while step < loc:\n",
        "        curr = curr.next\n",
        "        step += 1\n",
        "\n",
        "      front_node = curr\n",
        "      \n",
        "      for _ in range(2):\n",
        "        curr = curr.next\n",
        "\n",
        "      back_node = curr\n",
        "      target = back_node.prev\n",
        "\n",
        "\n",
        "    else:\n",
        "      curr = self.tail\n",
        "      step = 0\n",
        "      loc = self.size - loc\n",
        "      while step < loc:\n",
        "        curr = curr.prev\n",
        "        step += 1\n",
        "\n",
        "      back_node = curr\n",
        "\n",
        "      for _ in range(2):\n",
        "        curr = curr.prev\n",
        "\n",
        "      first_node = curr\n",
        "      target = back_node.prev\n",
        "\n",
        "    front_node.next = back_node\n",
        "    back_node.prev = front_node\n",
        "\n",
        "    target.next, target.prev = None, None\n",
        "    del target\n",
        "      \n",
        "  \n",
        "\n",
        "    self.size -= 1\n",
        "\n",
        "  def __len__(self):\n",
        "    return self.size\n",
        "\n",
        "  def __str__(self):\n",
        "    if self.size == 0:\n",
        "      return None\n",
        "\n",
        "    else:\n",
        "      curr = self.head\n",
        "      dll_str = ''\n",
        "\n",
        "      while curr:\n",
        "        dll_str += str(curr.key) + '<->'\n",
        "        curr = curr.next\n",
        "\n",
        "      dll_str += 'None'\n",
        "\n",
        "    return dll_str\n",
        "\n",
        "\n"
      ],
      "metadata": {
        "id": "_Vd7hDNPO4Zn"
      },
      "execution_count": 9,
      "outputs": []
    },
    {
      "cell_type": "code",
      "source": [
        "dll = DoublyLinkedList()\n",
        "\n",
        "for i in range(1, 5):\n",
        "  dll.push_back(i)\n",
        "\n",
        "print(dll)"
      ],
      "metadata": {
        "colab": {
          "base_uri": "https://localhost:8080/"
        },
        "id": "3rHnNmojUzw9",
        "outputId": "7b914cd8-66a3-48d4-cb9a-c3d6271aa88e"
      },
      "execution_count": 10,
      "outputs": [
        {
          "output_type": "stream",
          "name": "stdout",
          "text": [
            "None<->1<->None\n"
          ]
        }
      ]
    },
    {
      "cell_type": "code",
      "source": [
        "# i have to correct push's method!!!"
      ],
      "metadata": {
        "id": "6FWot3PKU_nz"
      },
      "execution_count": null,
      "outputs": []
    }
  ]
}